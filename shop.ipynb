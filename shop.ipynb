{
 "cells": [
  {
   "cell_type": "markdown",
   "metadata": {},
   "source": [
    "### 安裝myspl套件\n",
    "pip install pymysql"
   ]
  },
  {
   "cell_type": "code",
   "execution_count": 1,
   "metadata": {},
   "outputs": [
    {
     "data": {
      "text/plain": [
       "'1.4.6'"
      ]
     },
     "execution_count": 1,
     "metadata": {},
     "output_type": "execute_result"
    }
   ],
   "source": [
    "import pymysql\n",
    "\n",
    "pymysql.__version__"
   ]
  },
  {
   "cell_type": "markdown",
   "metadata": {},
   "source": [
    "### 連接mysql"
   ]
  },
  {
   "cell_type": "code",
   "execution_count": 18,
   "metadata": {},
   "outputs": [
    {
     "data": {
      "text/plain": [
       "<pymysql.connections.Connection at 0x1eb28cbe6f0>"
      ]
     },
     "execution_count": 18,
     "metadata": {},
     "output_type": "execute_result"
    }
   ],
   "source": [
    "conn=pymysql.connect(\n",
    "    user='root',\n",
    "    passwd='12345678',\n",
    "    host='localhost', # \"127.0.0.1\"\n",
    "    database='shop',\n",
    "    port=3306\n",
    ")\n",
    "\n",
    "conn"
   ]
  },
  {
   "cell_type": "code",
   "execution_count": 19,
   "metadata": {},
   "outputs": [
    {
     "data": {
      "text/plain": [
       "<pymysql.cursors.Cursor at 0x1eb28cbf800>"
      ]
     },
     "execution_count": 19,
     "metadata": {},
     "output_type": "execute_result"
    }
   ],
   "source": [
    "cur=conn.cursor()\n",
    "cur"
   ]
  },
  {
   "cell_type": "markdown",
   "metadata": {},
   "source": [
    "### 查詢語法\n",
    "- select from tablename"
   ]
  },
  {
   "cell_type": "code",
   "execution_count": null,
   "metadata": {},
   "outputs": [],
   "source": [
    "sqlstr=\"SELECT `id`, `email`, `phone`, `address` FROM `user` WHERE `id`=1;\"\n",
    "cur.execute(sqlstr)\n",
    "# users=cur.fetchall()\n",
    "users=cur.fetchone()\n",
    "users"
   ]
  },
  {
   "cell_type": "markdown",
   "metadata": {},
   "source": [
    "### 插入語法\n",
    "- insert into"
   ]
  },
  {
   "cell_type": "code",
   "execution_count": null,
   "metadata": {},
   "outputs": [],
   "source": [
    "username=input('姓名: ')\n",
    "email=input('Email: ')\n",
    "password=input('密碼: ')\n",
    "phone=input('手機: ')\n",
    "address=input('地址: ')\n",
    "\n",
    "sqlstr=f\"INSERT INTO `user` (`username`, `password`, `email`, `phone`, `address`) VALUES ('{username}', '{password}', '{email}', '{phone}', '{address}');\"\n",
    "sqlstr"
   ]
  },
  {
   "cell_type": "code",
   "execution_count": null,
   "metadata": {},
   "outputs": [],
   "source": [
    "try:\n",
    "    cur.execute(sqlstr)\n",
    "    conn.commit()\n",
    "except Exception as e:\n",
    "    print(\"寫入失敗\",e)"
   ]
  },
  {
   "cell_type": "markdown",
   "metadata": {},
   "source": [
    "### 登入系統"
   ]
  },
  {
   "cell_type": "code",
   "execution_count": 21,
   "metadata": {},
   "outputs": [
    {
     "data": {
      "text/plain": [
       "\"SELECT * FROM user WHERE email='aabbcc@gamil.com' and password='12345678';\""
      ]
     },
     "execution_count": 21,
     "metadata": {},
     "output_type": "execute_result"
    }
   ],
   "source": [
    "email=input('Email: ')\n",
    "password=input('密碼: ')\n",
    "\n",
    "sqlstr=f\"SELECT * FROM user WHERE email='{email}' and password='{password}';\"\n",
    "sqlstr\n"
   ]
  },
  {
   "cell_type": "code",
   "execution_count": 22,
   "metadata": {},
   "outputs": [
    {
     "data": {
      "text/plain": [
       "(6,\n",
       " 'Cindy',\n",
       " '12345678',\n",
       " 'aabbcc@gamil.com',\n",
       " '0911223344',\n",
       " '',\n",
       " datetime.datetime(2024, 8, 24, 10, 42))"
      ]
     },
     "execution_count": 22,
     "metadata": {},
     "output_type": "execute_result"
    }
   ],
   "source": [
    "cur.execute(sqlstr)\n",
    "user=cur.fetchone()\n",
    "user\n"
   ]
  },
  {
   "cell_type": "code",
   "execution_count": 23,
   "metadata": {},
   "outputs": [
    {
     "name": "stdout",
     "output_type": "stream",
     "text": [
      "登入成功\n"
     ]
    }
   ],
   "source": [
    "if user is not None:\n",
    "    print('登入成功')\n",
    "else:\n",
    "    print('登入失敗')"
   ]
  },
  {
   "cell_type": "markdown",
   "metadata": {},
   "source": [
    "### 建立商品資料表(item)\n",
    "\n",
    "- id => int, AI\n",
    "- name => varchar(100), uniqne\n",
    "- price => float\n",
    "- qty => int default=1\n",
    "- info => text default=Null\n"
   ]
  },
  {
   "cell_type": "code",
   "execution_count": null,
   "metadata": {},
   "outputs": [],
   "source": [
    "sqlstr=\"INSERT INTO item (name, price, qty, info) values ('test', '100', 5, '')\"\n",
    "cur.execute(sqlstr)\n",
    "conn.commit()"
   ]
  },
  {
   "cell_type": "code",
   "execution_count": null,
   "metadata": {},
   "outputs": [],
   "source": [
    "name=input('品名: ')\n",
    "price=input('價格: ')\n",
    "qty=input('數量: ')\n",
    "info=input('詳細資料: ')\n",
    "sqlstr=f\"INSERT INTO item (name, price, qty, info) values ('{name}', '{price}', {qty}, '{info}')\""
   ]
  },
  {
   "cell_type": "code",
   "execution_count": null,
   "metadata": {},
   "outputs": [],
   "source": [
    "cur.execute(sqlstr)\n",
    "conn.commit()"
   ]
  },
  {
   "cell_type": "markdown",
   "metadata": {},
   "source": [
    "### 商品列表"
   ]
  },
  {
   "cell_type": "code",
   "execution_count": 4,
   "metadata": {},
   "outputs": [
    {
     "data": {
      "text/plain": [
       "((3, 'test', 100.0, 5, '', datetime.date(2024, 8, 24)),\n",
       " (4, 'macbook', 35000.0, 1, '256ssd 16g', datetime.date(2024, 8, 24)),\n",
       " (5, 'apple watch', 17000.0, 2, '', datetime.date(2024, 8, 24)),\n",
       " (6, 'phone case', 300.0, 10, '', datetime.date(2024, 8, 24)),\n",
       " (7, 'ipad', 8000.0, 0, '', datetime.date(2024, 8, 24)))"
      ]
     },
     "execution_count": 4,
     "metadata": {},
     "output_type": "execute_result"
    }
   ],
   "source": [
    "sqlstr=\"SELECT * FROM item;\"\n",
    "\n",
    "cur.execute(sqlstr)\n",
    "items=cur.fetchall()\n",
    "items"
   ]
  },
  {
   "cell_type": "code",
   "execution_count": 5,
   "metadata": {},
   "outputs": [],
   "source": [
    "# items=[list(item) for item in items]\n",
    "# items"
   ]
  },
  {
   "cell_type": "code",
   "execution_count": 11,
   "metadata": {},
   "outputs": [],
   "source": [
    "def update_item():\n",
    "    sqlstr=\"SELECT * FROM item;\"\n",
    "    cur.execute(sqlstr)\n",
    "    items=cur.fetchall()\n",
    "    return items"
   ]
  },
  {
   "cell_type": "code",
   "execution_count": 17,
   "metadata": {},
   "outputs": [
    {
     "name": "stdout",
     "output_type": "stream",
     "text": [
      "--------------------------------------------------\n",
      "1. 商品名稱: test, 商品價格: 100.0元, 數量: 5, 備註: \n",
      "2. 商品名稱: macbook, 商品價格: 35000.0元, 數量: 1, 備註: 256ssd 16g\n",
      "3. 商品名稱: apple watch, 商品價格: 17000.0元, 數量: 2, 備註: \n",
      "4. 商品名稱: phone case, 商品價格: 300.0元, 數量: 10, 備註: \n",
      "5. 商品名稱: ipad, 商品價格: 8000.0元, 數量: 0, 備註: \n",
      "test 加入購物車\n",
      "--------------------------------------------------\n",
      "1. 商品名稱: test, 商品價格: 100.0元, 數量: 4, 備註: \n",
      "2. 商品名稱: macbook, 商品價格: 35000.0元, 數量: 1, 備註: 256ssd 16g\n",
      "3. 商品名稱: apple watch, 商品價格: 17000.0元, 數量: 2, 備註: \n",
      "4. 商品名稱: phone case, 商品價格: 300.0元, 數量: 10, 備註: \n",
      "5. 商品名稱: ipad, 商品價格: 8000.0元, 數量: 0, 備註: \n",
      "phone case 加入購物車\n",
      "--------------------------------------------------\n",
      "1. 商品名稱: test, 商品價格: 100.0元, 數量: 4, 備註: \n",
      "2. 商品名稱: macbook, 商品價格: 35000.0元, 數量: 1, 備註: 256ssd 16g\n",
      "3. 商品名稱: apple watch, 商品價格: 17000.0元, 數量: 2, 備註: \n",
      "4. 商品名稱: phone case, 商品價格: 300.0元, 數量: 9, 備註: \n",
      "5. 商品名稱: ipad, 商品價格: 8000.0元, 數量: 0, 備註: \n",
      "phone case 加入購物車\n",
      "--------------------------------------------------\n",
      "1. 商品名稱: test, 商品價格: 100.0元, 數量: 4, 備註: \n",
      "2. 商品名稱: macbook, 商品價格: 35000.0元, 數量: 1, 備註: 256ssd 16g\n",
      "3. 商品名稱: apple watch, 商品價格: 17000.0元, 數量: 2, 備註: \n",
      "4. 商品名稱: phone case, 商品價格: 300.0元, 數量: 8, 備註: \n",
      "5. 商品名稱: ipad, 商品價格: 8000.0元, 數量: 0, 備註: \n",
      "apple watch 加入購物車\n",
      "--------------------------------------------------\n",
      "1. 商品名稱: test, 商品價格: 100.0元, 數量: 4, 備註: \n",
      "2. 商品名稱: macbook, 商品價格: 35000.0元, 數量: 1, 備註: 256ssd 16g\n",
      "3. 商品名稱: apple watch, 商品價格: 17000.0元, 數量: 1, 備註: \n",
      "4. 商品名稱: phone case, 商品價格: 300.0元, 數量: 8, 備註: \n",
      "5. 商品名稱: ipad, 商品價格: 8000.0元, 數量: 0, 備註: \n",
      "macbook 加入購物車\n",
      "--------------------------------------------------\n",
      "1. 商品名稱: test, 商品價格: 100.0元, 數量: 4, 備註: \n",
      "2. 商品名稱: macbook, 商品價格: 35000.0元, 數量: 0, 備註: 256ssd 16g\n",
      "3. 商品名稱: apple watch, 商品價格: 17000.0元, 數量: 1, 備註: \n",
      "4. 商品名稱: phone case, 商品價格: 300.0元, 數量: 8, 備註: \n",
      "5. 商品名稱: ipad, 商品價格: 8000.0元, 數量: 0, 備註: \n",
      "完成購買\n",
      "購買商品如下: \n",
      "test\n",
      "phone case\n",
      "phone case\n",
      "apple watch\n",
      "macbook\n"
     ]
    }
   ],
   "source": [
    "cart=[]\n",
    "while True:\n",
    "    # 同步更新最新產品\n",
    "    items=update_item()\n",
    "    print(\"-\"*50)\n",
    "    for i,item in enumerate(items):\n",
    "        print(f\"{i+1}. 商品名稱: {item[1]}, 商品價格: {item[2]}元, 數量: {item[3]}, 備註: {item[4]}\")\n",
    "\n",
    "    # 選項>=1 and <=len(item) 才算輸入正確\n",
    "    choice=int(input(\"輸入編號(0:exit):\"))\n",
    "    if choice==0:\n",
    "        break\n",
    "    if choice<1 or choice>len(items):\n",
    "        print(\"輸入編號不在範圍內，請重新輸入\")\n",
    "        continue\n",
    "\n",
    "    # 數量小於1 => 無庫存，顯示輸入不正確\n",
    "    buy_item=items[choice-1]\n",
    "    if buy_item[3]<1:\n",
    "        print(f\"{buy_item[1]} 商品已無庫存\")\n",
    "        continue\n",
    "    \n",
    "    # 商品購物車\n",
    "    cart.append(buy_item)\n",
    "    print(f\"{buy_item[1]} 加入購物車\")\n",
    "\n",
    "    # 更新商品數量\n",
    "    sqlstr=f'UPDATE item SET qty={buy_item[3]-1} WHERE id={buy_item[0]};'\n",
    "    cur.execute(sqlstr)\n",
    "    conn.commit()\n",
    "\n",
    "print(\"完成購買\")\n",
    "print(\"購買商品如下: \")\n",
    "for product in cart:\n",
    "    print(product[1])"
   ]
  },
  {
   "cell_type": "markdown",
   "metadata": {},
   "source": [
    "### 送出訂單\n",
    "- id\n",
    "- user_id\n",
    "- item_id\n",
    "- created_time"
   ]
  },
  {
   "cell_type": "code",
   "execution_count": 28,
   "metadata": {},
   "outputs": [
    {
     "name": "stdout",
     "output_type": "stream",
     "text": [
      "送出訂單! INSERT INTO `order` (user_id, item_id) VALUES (6, 3);\n",
      "送出訂單! INSERT INTO `order` (user_id, item_id) VALUES (6, 6);\n",
      "送出訂單! INSERT INTO `order` (user_id, item_id) VALUES (6, 6);\n",
      "送出訂單! INSERT INTO `order` (user_id, item_id) VALUES (6, 5);\n",
      "送出訂單! INSERT INTO `order` (user_id, item_id) VALUES (6, 4);\n"
     ]
    }
   ],
   "source": [
    "for item in cart:\n",
    "    sqlstr=f'INSERT INTO `order` (user_id, item_id) VALUES ({user[0]}, {item[0]});'\n",
    "    cur.execute(sqlstr)\n",
    "    conn.commit()\n",
    "    print(\"送出訂單!\",sqlstr)"
   ]
  },
  {
   "cell_type": "markdown",
   "metadata": {},
   "source": [
    "### 開始出貨"
   ]
  },
  {
   "cell_type": "code",
   "execution_count": 30,
   "metadata": {},
   "outputs": [
    {
     "data": {
      "text/plain": [
       "((11, 6, 3, datetime.datetime(2024, 8, 24, 14, 57, 19)),\n",
       " (12, 6, 6, datetime.datetime(2024, 8, 24, 14, 57, 19)),\n",
       " (13, 6, 6, datetime.datetime(2024, 8, 24, 14, 57, 19)),\n",
       " (14, 6, 5, datetime.datetime(2024, 8, 24, 14, 57, 19)),\n",
       " (15, 6, 4, datetime.datetime(2024, 8, 24, 14, 57, 19)))"
      ]
     },
     "execution_count": 30,
     "metadata": {},
     "output_type": "execute_result"
    }
   ],
   "source": [
    "# 找出user\n",
    "\n",
    "sqlstr=\"select * from `order`;\"\n",
    "cur.execute(sqlstr)\n",
    "orders=cur.fetchall()\n",
    "orders"
   ]
  },
  {
   "cell_type": "code",
   "execution_count": 31,
   "metadata": {},
   "outputs": [
    {
     "data": {
      "text/plain": [
       "6"
      ]
     },
     "execution_count": 31,
     "metadata": {},
     "output_type": "execute_result"
    }
   ],
   "source": [
    "user_id=orders[0][1]\n",
    "user_id"
   ]
  },
  {
   "cell_type": "code",
   "execution_count": 32,
   "metadata": {},
   "outputs": [
    {
     "data": {
      "text/plain": [
       "(6,\n",
       " 'Cindy',\n",
       " '12345678',\n",
       " 'aabbcc@gamil.com',\n",
       " '0911223344',\n",
       " '',\n",
       " datetime.datetime(2024, 8, 24, 10, 42))"
      ]
     },
     "execution_count": 32,
     "metadata": {},
     "output_type": "execute_result"
    }
   ],
   "source": [
    "sqlstr=f'select * from user where id={user_id}'\n",
    "cur.execute(sqlstr)\n",
    "user=cur.fetchone()\n",
    "user"
   ]
  },
  {
   "cell_type": "code",
   "execution_count": 33,
   "metadata": {},
   "outputs": [
    {
     "name": "stdout",
     "output_type": "stream",
     "text": [
      "((3,), (6,), (6,), (5,), (4,))\n"
     ]
    }
   ],
   "source": [
    "sqlstr=f'select item_id from `order` where user_id={user_id}'\n",
    "cur.execute(sqlstr)\n",
    "buy_items=cur.fetchall()\n",
    "\n",
    "print(buy_items)"
   ]
  },
  {
   "cell_type": "code",
   "execution_count": null,
   "metadata": {},
   "outputs": [],
   "source": []
  },
  {
   "cell_type": "code",
   "execution_count": null,
   "metadata": {},
   "outputs": [],
   "source": []
  },
  {
   "cell_type": "code",
   "execution_count": null,
   "metadata": {},
   "outputs": [],
   "source": []
  },
  {
   "cell_type": "code",
   "execution_count": 7,
   "metadata": {},
   "outputs": [],
   "source": [
    "conn.close()"
   ]
  }
 ],
 "metadata": {
  "kernelspec": {
   "display_name": "Python 3",
   "language": "python",
   "name": "python3"
  },
  "language_info": {
   "codemirror_mode": {
    "name": "ipython",
    "version": 3
   },
   "file_extension": ".py",
   "mimetype": "text/x-python",
   "name": "python",
   "nbconvert_exporter": "python",
   "pygments_lexer": "ipython3",
   "version": "3.12.3"
  }
 },
 "nbformat": 4,
 "nbformat_minor": 2
}
